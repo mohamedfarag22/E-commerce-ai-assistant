{
 "cells": [
  {
   "cell_type": "code",
   "execution_count": 1,
   "id": "4661f764",
   "metadata": {},
   "outputs": [
    {
     "name": "stderr",
     "output_type": "stream",
     "text": [
      "ERROR: Could not find a version that satisfies the requirement sqlite3 (from versions: none)\n",
      "ERROR: No matching distribution found for sqlite3\n",
      "\n",
      "[notice] A new release of pip is available: 23.2.1 -> 25.1.1\n",
      "[notice] To update, run: python.exe -m pip install --upgrade pip\n"
     ]
    }
   ],
   "source": [
    "! pip install sqlite3"
   ]
  },
  {
   "cell_type": "code",
   "execution_count": null,
   "id": "2281eb65",
   "metadata": {},
   "outputs": [],
   "source": [
    "import sqlite3\n",
    "\n",
    "# Connect to in-memory SQLite database (use 'ecommerce_support.db' to save to a file)\n",
    "conn = sqlite3.connect('ecommerce_support.db')\n",
    "cursor = conn.cursor()\n",
    "\n",
    "# Insert sample data\n",
    "cursor.executemany('INSERT INTO Orders VALUES (?, ?, ?, ?)', [\n",
    "    (1001, 1, '2024-11-01', 'shipped'),\n",
    "    (1002, 2, '2024-11-05', 'shipped'),\n",
    "    (1003, 3, '2024-11-06', 'shipped'),\n",
    "    (1004, 4, '2024-11-08', 'delivered'),\n",
    "    (1005, 5, '2024-11-10', 'returned'),\n",
    "    (1006, 6, '2024-11-12', 'delivered'),\n",
    "    (1007, 7, '2024-11-13', 'returned'),\n",
    "    (1008, 8, '2024-11-14', 'delivered'),\n",
    "    (1009, 9, '2024-11-15', 'delivered'),\n",
    "    (1010, 1, '2024-12-01', 'delivered'),\n",
    "    (1011, 4, '2024-12-08', 'returned'),\n",
    "\n",
    "\n",
    "\n",
    "])\n",
    "\n",
    "cursor.executemany('INSERT INTO Customers VALUES (?, ?, ?, ?)', [\n",
    "    (2, 'Sean', \"Sean@example.com\", \"New York\"),\n",
    "    (3, \"john\", \"john@example.com\", \"New York\"),\n",
    "    (4, \"Mohamed\", \"Mohamed@example.com\", 'Egypt'),\n",
    "    (5, \"Ahmed\", \"Ahmed@example.com\", 'Egypt'),\n",
    "    (6, \"Mahmoud\", \"Mahmoud@example.com\", 'Egypt'),\n",
    "    (7, \"Mostafa\", \"Mostafa@example.com\", 'Egypt'),\n",
    "    (8, \"Farag\", \"Farag@example.com\", 'returned'),\n",
    "    (9, \"Abdelaty\", \"Abdelaty@example.com\", 'New York'),\n",
    "    (10, \"Moaz\", \"Moaz@example.com\", 'Egypt'),\n",
    "])\n",
    "\n",
    "cursor.executemany('INSERT INTO Products VALUES (?, ?, ?, ?)', [\n",
    "    (1, 'Laptop', 999.99, 10),\n",
    "    (2, 'Mouse', 19.99, 100),\n",
    "    (3, 'Keyboard', 49.99, 50),\n",
    "    (4, 'T-shirt Real Madraid', 199.99, 100),\n",
    "    (5, 'Headphones', 89.99, 30),\n",
    "    (6, 'Monitor', 199.99, 15),\n",
    "    (7, 'Smartphone', 699.99, 25),\n",
    "    (8, 'Tablet', 299.99, 40),\n",
    "    (9, 'Charger', 29.99, 200),])\n",
    "\n",
    "cursor.executemany('INSERT INTO Returns VALUES (?, ?, ?)', [\n",
    "    (1005, 'Item damaged', 'Agent_v1.1'),\n",
    "    (1007, 'Wrong size', 'Agent_v1.1'),\n",
    "    (1011, 'Wrong item sent', 'Agent_v1.1'),\n",
    "])\n",
    "\n",
    "# Commit changes\n",
    "conn.commit()"
   ]
  },
  {
   "cell_type": "code",
   "execution_count": 13,
   "id": "13f045c2",
   "metadata": {},
   "outputs": [],
   "source": [
    "\n",
    "# to edit custome  \n",
    "import sqlite3\n",
    "\n",
    "conn = sqlite3.connect('ecommerce_support.db')\n",
    "cursor = conn.cursor()\n",
    "\n",
    "# Example: update customer's email\n",
    "cursor.execute(\"\"\"\n",
    "    UPDATE Products\n",
    "    SET inventory_count = '12'\n",
    "    WHERE id = 10;\n",
    "\"\"\")\n",
    "\n",
    "conn.commit()\n",
    "conn.close()\n"
   ]
  },
  {
   "cell_type": "code",
   "execution_count": null,
   "id": "b8981af3",
   "metadata": {},
   "outputs": [],
   "source": [
    "\n",
    "# to edit custome  \n",
    "import sqlite3\n",
    "\n",
    "conn = sqlite3.connect('ecommerce_support.db')\n",
    "cursor = conn.cursor()\n",
    "\n",
    "# Example: update customer's email\n",
    "cursor.execute(\"\"\"\n",
    "    UPDATE Orders\n",
    "    SET order_date = '2024-11-29'\n",
    "    WHERE id = 12345;\n",
    "\"\"\")\n",
    "\n",
    "conn.commit()\n",
    "conn.close()\n"
   ]
  },
  {
   "cell_type": "code",
   "execution_count": 2,
   "id": "c83d23eb",
   "metadata": {},
   "outputs": [
    {
     "name": "stdout",
     "output_type": "stream",
     "text": [
      "Table 'Orders' has 12 rows.\n",
      "Table 'Products' has 10 rows.\n",
      "Table 'Returns' has 4 rows.\n",
      "\n",
      "Status of Order 12345: Shipped\n"
     ]
    }
   ],
   "source": [
    "import sqlite3\n",
    "\n",
    "# Connect to your database file\n",
    "conn = sqlite3.connect('ecommerce_support.db')\n",
    "cursor = conn.cursor()\n",
    "\n",
    "# Count rows in each table\n",
    "tables = ['Orders', 'Products', 'Returns']\n",
    "for table in tables:\n",
    "    try:\n",
    "        cursor.execute(f'SELECT COUNT(*) FROM {table}')\n",
    "        count = cursor.fetchone()[0]\n",
    "        print(f\"Table '{table}' has {count} rows.\")\n",
    "    except sqlite3.Error as e:\n",
    "        print(f\"Error accessing table {table}: {e}\")\n",
    "\n",
    "# Example: Get status of a specific order\n",
    "order_id = 12345\n",
    "cursor.execute(\"SELECT status FROM Orders WHERE id = ?\", (order_id,))\n",
    "row = cursor.fetchone()\n",
    "if row:\n",
    "    print(f\"\\nStatus of Order {order_id}: {row[0]}\")\n",
    "else:\n",
    "    print(f\"\\nOrder with ID {order_id} not found.\")\n",
    "\n",
    "# Close the connection\n",
    "conn.close()\n"
   ]
  },
  {
   "cell_type": "code",
   "execution_count": 3,
   "id": "f217863b",
   "metadata": {},
   "outputs": [
    {
     "name": "stdout",
     "output_type": "stream",
     "text": [
      "Status of Order 1002: 12\n"
     ]
    }
   ],
   "source": [
    "import sqlite3\n",
    "\n",
    "# Connect to the database\n",
    "conn = sqlite3.connect('ecommerce_support.db')\n",
    "cursor = conn.cursor()\n",
    "\n",
    "# Execute the query\n",
    "cursor.execute(\"SELECT inventory_count FROM Products WHERE name LIKE '%Nike Air Max%';\")\n",
    "result = cursor.fetchone()\n",
    "\n",
    "# Print result\n",
    "if result:\n",
    "    print(f\"Status of Order 1002: {result[0]}\")\n",
    "else:\n",
    "    print(\"Order with ID 1002 not found.\")\n",
    "\n",
    "# Close connection\n",
    "conn.close()\n",
    "\n"
   ]
  },
  {
   "cell_type": "code",
   "execution_count": 5,
   "id": "4d68ce27",
   "metadata": {},
   "outputs": [
    {
     "name": "stdout",
     "output_type": "stream",
     "text": [
      "\n",
      "--- Returned Orders with Reasons ---\n",
      "(12345, '2024-11-29', 'Damaged item', 'Agent_v1.0')\n",
      "(1005, '2024-11-10', 'Item damaged', 'Agent_v1.1')\n",
      "(1007, '2024-11-13', 'Wrong size', 'Agent_v1.1')\n",
      "(1011, '2024-12-08', 'Wrong item sent', 'Agent_v1.1')\n",
      "\n",
      "--- Products with Low Inventory (less than 20) ---\n",
      "('Laptop', 10)\n",
      "('Monitor', 15)\n",
      "('Nike Air Max', 12)\n",
      "\n",
      "Approved Returns Count: 4\n"
     ]
    }
   ],
   "source": [
    "conn = sqlite3.connect('ecommerce_support.db')\n",
    "cursor = conn.cursor()\n",
    "# Example Query 1: Show returned orders with reasons\n",
    "print(\"\\n--- Returned Orders with Reasons ---\")\n",
    "cursor.execute('''\n",
    "    SELECT o.id, o.order_date, r.reason, r.approved_by\n",
    "    FROM Orders o\n",
    "    JOIN Returns r ON o.id = r.order_id;\n",
    "''')\n",
    "for row in cursor.fetchall():\n",
    "    print(row)\n",
    "\n",
    "# Example Query 2: Check product inventory status\n",
    "print(\"\\n--- Products with Low Inventory (less than 20) ---\")\n",
    "cursor.execute('''\n",
    "    SELECT name, inventory_count\n",
    "    FROM Products\n",
    "    WHERE inventory_count < 20;\n",
    "''')\n",
    "for row in cursor.fetchall():\n",
    "    print(row)\n",
    "\n",
    "# Example Query 3: Count of all approved returns\n",
    "cursor.execute('SELECT COUNT(*) FROM Returns WHERE approved_by IS NOT NULL;')\n",
    "print(\"\\nApproved Returns Count:\", cursor.fetchone()[0])\n",
    "\n",
    "# Close connection\n",
    "conn.close()"
   ]
  },
  {
   "cell_type": "code",
   "execution_count": 8,
   "id": "aaa65571",
   "metadata": {},
   "outputs": [
    {
     "name": "stdout",
     "output_type": "stream",
     "text": [
      "Table 'Orders' has 12 rows.\n",
      "Table 'Products' has 10 rows.\n",
      "Table 'Returns' has 4 rows.\n",
      "Table 'Customers' has 10 rows.\n"
     ]
    }
   ],
   "source": [
    "import sqlite3\n",
    "\n",
    "# Connect to the database\n",
    "conn = sqlite3.connect('ecommerce_support.db')\n",
    "cursor = conn.cursor()\n",
    "\n",
    "# List of table names\n",
    "tables = [\"Orders\", \"Products\", \"Returns\",\"Customers\"]\n",
    "\n",
    "# Loop through tables and count rows\n",
    "for table in tables:\n",
    "    try:\n",
    "        cursor.execute(f\"SELECT COUNT(*) FROM {table};\")\n",
    "        count = cursor.fetchone()[0]\n",
    "        item = cursor.fetchone()\n",
    "        print(f\"Table '{table}' has {count} rows.\")\n",
    "\n",
    "    except sqlite3.Error as e:\n",
    "        print(f\"Error counting rows in table {table}: {e}\")\n",
    "\n",
    "# Close connection\n",
    "conn.close()\n"
   ]
  },
  {
   "cell_type": "code",
   "execution_count": null,
   "id": "22da3302",
   "metadata": {},
   "outputs": [],
   "source": []
  }
 ],
 "metadata": {
  "kernelspec": {
   "display_name": "Python 3",
   "language": "python",
   "name": "python3"
  },
  "language_info": {
   "codemirror_mode": {
    "name": "ipython",
    "version": 3
   },
   "file_extension": ".py",
   "mimetype": "text/x-python",
   "name": "python",
   "nbconvert_exporter": "python",
   "pygments_lexer": "ipython3",
   "version": "3.12.0"
  }
 },
 "nbformat": 4,
 "nbformat_minor": 5
}
